{
 "cells": [
  {
   "cell_type": "code",
   "execution_count": 1,
   "metadata": {
    "collapsed": false
   },
   "outputs": [
    {
     "name": "stdout",
     "output_type": "stream",
     "text": [
      "10 63\n"
     ]
    }
   ],
   "source": [
    "a,b,c,d,e = [1,2,3,4,54]\n",
    "\n",
    "mylist=[a,b,c,d,e]\n",
    "\n",
    "mysum = long(0)\n",
    "mysum = a+b+c+d+e\n",
    "\n",
    "mins=min(mylist)\n",
    "maxs=max(mylist)\n",
    "\n",
    "max4=mysum-mins\n",
    "min4=mysum-maxs\n",
    "\n",
    "print min4,max4"
   ]
  },
  {
   "cell_type": "code",
   "execution_count": 4,
   "metadata": {
    "collapsed": false
   },
   "outputs": [
    {
     "data": {
      "text/plain": [
       "(97, 98)"
      ]
     },
     "execution_count": 4,
     "metadata": {},
     "output_type": "execute_result"
    }
   ],
   "source": [
    "ord('a'),ord('b')"
   ]
  },
  {
   "cell_type": "code",
   "execution_count": 1,
   "metadata": {
    "collapsed": true
   },
   "outputs": [],
   "source": [
    "from collections import deque"
   ]
  },
  {
   "cell_type": "code",
   "execution_count": 13,
   "metadata": {
    "collapsed": false
   },
   "outputs": [
    {
     "name": "stdout",
     "output_type": "stream",
     "text": [
      "11aabbcccdeecggh\n"
     ]
    }
   ],
   "source": [
    "ip_str=raw_input()\n",
    "\n",
    "my_stack=deque()\n"
   ]
  },
  {
   "cell_type": "code",
   "execution_count": 14,
   "metadata": {
    "collapsed": false
   },
   "outputs": [
    {
     "name": "stdout",
     "output_type": "stream",
     "text": [
      "deque(['c', 'd', 'c', 'h'])\n"
     ]
    }
   ],
   "source": [
    "for ch in ip_str:\n",
    "    last=len(my_stack)\n",
    "    if last and ch==my_stack[last-1]:\n",
    "        my_stack.pop()\n",
    "    else:\n",
    "        my_stack.append(ch)\n",
    "\n",
    "print my_stack"
   ]
  },
  {
   "cell_type": "code",
   "execution_count": 16,
   "metadata": {
    "collapsed": false
   },
   "outputs": [
    {
     "name": "stdout",
     "output_type": "stream",
     "text": [
      "cdch\n"
     ]
    }
   ],
   "source": [
    "str=''\n",
    "for ch in my_stack:\n",
    "    str+=ch\n",
    "print str"
   ]
  },
  {
   "cell_type": "code",
   "execution_count": 17,
   "metadata": {
    "collapsed": false
   },
   "outputs": [
    {
     "name": "stdout",
     "output_type": "stream",
     "text": [
      "beabeefeab\n"
     ]
    }
   ],
   "source": [
    "ip_str=raw_input()"
   ]
  },
  {
   "cell_type": "code",
   "execution_count": 18,
   "metadata": {
    "collapsed": false
   },
   "outputs": [
    {
     "name": "stdout",
     "output_type": "stream",
     "text": [
      "[1, 2, 3, 4, 54, 1, 2, 3, 4, 54]\n"
     ]
    }
   ],
   "source": [
    "a=[1,2,3,4,54]\n",
    "\n",
    "aa=a*2\n",
    "\n",
    "print aa"
   ]
  },
  {
   "cell_type": "code",
   "execution_count": 5,
   "metadata": {
    "collapsed": false
   },
   "outputs": [
    {
     "name": "stdout",
     "output_type": "stream",
     "text": [
      "10\n",
      "55\n"
     ]
    }
   ],
   "source": [
    "n=int(raw_input())\n",
    "fib_arr=[0]*n\n",
    "fib_arr[0]=1\n",
    "fib_arr[1]=1\n",
    "def fibonacci(n):\n",
    "    fib_val=0\n",
    "    if n<=2:\n",
    "        fib_val=1\n",
    "    else:\n",
    "        if fib_arr[n-1]==0:\n",
    "            #compute\n",
    "            fib_val=fibonacci(n-1)+fibonacci(n-2)\n",
    "            fib_arr[n-1]=fib_val\n",
    "        else:\n",
    "            fib_val=fib_arr[n-1]\n",
    "\n",
    "    return fib_val\n",
    "\n",
    "print fibonacci(n)"
   ]
  },
  {
   "cell_type": "code",
   "execution_count": 6,
   "metadata": {
    "collapsed": false
   },
   "outputs": [
    {
     "data": {
      "text/plain": [
       "[1, 1, 2, 3, 5, 8, 13, 21, 34, 55]"
      ]
     },
     "execution_count": 6,
     "metadata": {},
     "output_type": "execute_result"
    }
   ],
   "source": [
    "fib_arr"
   ]
  },
  {
   "cell_type": "raw",
   "metadata": {},
   "source": [
    "We define a hackonacci series as follows:\n",
    "\n",
    "hackonacci(n)=1*hackonacci(n-1)+2*hackonacci(n-2)+3*hackonacci(n-3)\n",
    "hackonacci(1)=1\n",
    "hackonacci(2)=2\n",
    "hackonacci(3)=3"
   ]
  },
  {
   "cell_type": "code",
   "execution_count": 2,
   "metadata": {
    "collapsed": false
   },
   "outputs": [
    {
     "name": "stdout",
     "output_type": "stream",
     "text": [
      "256\n",
      "403747940297104609874815966005939715637921288949950973705056014484981972729158056008024715229378\n"
     ]
    }
   ],
   "source": [
    "n=int(raw_input())\n",
    "hac_arr=[0]*n\n",
    "hac_arr[0]=1\n",
    "hac_arr[1]=2\n",
    "hac_arr[2]=3\n",
    "def hackonacci(n):\n",
    "    hac_val=0\n",
    "    if n<=3:\n",
    "        hac_val=hac_arr[n-1]\n",
    "    else:\n",
    "        if hac_arr[n-1]==0:\n",
    "            #compute\n",
    "            hac_val=1*hackonacci(n-1)+2*hackonacci(n-2)+3*hackonacci(n-3)\n",
    "            hac_arr[n-1]=hac_val\n",
    "        else:\n",
    "            hac_val=hac_arr[n-1]\n",
    "\n",
    "    return hac_val\n",
    "\n",
    "print hackonacci(n)"
   ]
  },
  {
   "cell_type": "code",
   "execution_count": null,
   "metadata": {
    "collapsed": false
   },
   "outputs": [],
   "source": []
  },
  {
   "cell_type": "code",
   "execution_count": 30,
   "metadata": {
    "collapsed": false
   },
   "outputs": [
    {
     "name": "stdout",
     "output_type": "stream",
     "text": [
      "1657\n"
     ]
    }
   ],
   "source": [
    "n=10\n",
    "def hackonacci_rec(n):\n",
    "    hac_val=0\n",
    "    if n<=3:\n",
    "        return n\n",
    "    else:\n",
    "        #compute\n",
    "        return 1*hackonacci(n-1)+2*hackonacci(n-2)+3*hackonacci(n-3)\n",
    "\n",
    "print hackonacci_rec(n)"
   ]
  },
  {
   "cell_type": "code",
   "execution_count": 19,
   "metadata": {
    "collapsed": false
   },
   "outputs": [
    {
     "data": {
      "text/plain": [
       "array([ 0.,  0.,  0.,  0.])"
      ]
     },
     "execution_count": 19,
     "metadata": {},
     "output_type": "execute_result"
    }
   ],
   "source": [
    "np.zeros(n)"
   ]
  },
  {
   "cell_type": "code",
   "execution_count": 50,
   "metadata": {
    "collapsed": false
   },
   "outputs": [],
   "source": [
    "#print hac_arr"
   ]
  },
  {
   "cell_type": "raw",
   "metadata": {},
   "source": [
    "We define a Hackonacci Matrix to be an nxn matrix where the rows and columns are indexed from 1 to n, \n",
    "and the top-left cell is (1,1). \n",
    "Each cell (i,j) must contains either the character X or the character Y. \n",
    "If hackonacci((i*j)^2) is even, it's X; otherwise, it's Y."
   ]
  },
  {
   "cell_type": "code",
   "execution_count": 3,
   "metadata": {
    "collapsed": false
   },
   "outputs": [
    {
     "name": "stdout",
     "output_type": "stream",
     "text": [
      "[[0, 0, 0, 0], [0, 0, 0, 0], [0, 0, 0, 0], [0, 0, 0, 0]]\n"
     ]
    }
   ],
   "source": [
    "n=4\n",
    "hac_mat=[[0,0,0,0],[0,0,0,0],[0,0,0,0],[0,0,0,0]]\n",
    "hac_val_mat=[[0,0,0,0],[0,0,0,0],[0,0,0,0],[0,0,0,0]]\n",
    "print hac_mat"
   ]
  },
  {
   "cell_type": "code",
   "execution_count": 4,
   "metadata": {
    "collapsed": false
   },
   "outputs": [
    {
     "name": "stdout",
     "output_type": "stream",
     "text": [
      "[[ 0.  0.  0.  0.]\n",
      " [ 0.  0.  0.  0.]\n",
      " [ 0.  0.  0.  0.]\n",
      " [ 0.  0.  0.  0.]]\n"
     ]
    }
   ],
   "source": [
    "import numpy as np\n",
    "nn=np.zeros((n, n))\n",
    "print nn"
   ]
  },
  {
   "cell_type": "code",
   "execution_count": 5,
   "metadata": {
    "collapsed": false
   },
   "outputs": [
    {
     "name": "stdout",
     "output_type": "stream",
     "text": [
      "[[ 0.  0.  0.  0.]\n",
      " [ 0.  0.  0.  0.]\n",
      " [ 0.  0.  0.  0.]\n",
      " [ 0.  0.  0.  0.]]\n"
     ]
    }
   ],
   "source": [
    "n=4\n",
    "hac_mat=np.zeros((n, n))\n",
    "hac_val_mat=np.zeros((n, n))\n",
    "print hac_mat"
   ]
  },
  {
   "cell_type": "code",
   "execution_count": 6,
   "metadata": {
    "collapsed": false
   },
   "outputs": [
    {
     "data": {
      "text/plain": [
       "array([ 0.,  0.,  0.,  0.])"
      ]
     },
     "execution_count": 6,
     "metadata": {},
     "output_type": "execute_result"
    }
   ],
   "source": [
    "hac_mat[1]"
   ]
  },
  {
   "cell_type": "code",
   "execution_count": 8,
   "metadata": {
    "collapsed": false
   },
   "outputs": [
    {
     "name": "stdout",
     "output_type": "stream",
     "text": [
      "[[ 1.  0.  0.  0.]\n",
      " [ 0.  0.  1.  1.]\n",
      " [ 0.  1.  0.  0.]\n",
      " [ 0.  1.  0.  0.]]\n"
     ]
    }
   ],
   "source": [
    "def populate_hac_mat(n):\n",
    "    for i in range(n):\n",
    "        for j in range(n):\n",
    "            val=hac_arr[((i+1)*(j+1))**2 -1]\n",
    "            #print val\n",
    "            hac_val_mat[i][j]=val\n",
    "            if val%2==0:\n",
    "                hac_mat[i][j]=0#'X'\n",
    "            else:\n",
    "                hac_mat[i][j]=1#'Y'\n",
    "            #print hac_mat\n",
    "populate_hac_mat(n)\n",
    "print hac_mat\n",
    "#print hac_val_mat"
   ]
  },
  {
   "cell_type": "raw",
   "metadata": {},
   "source": [
    "# Next, we want to perform q queries where each query i consists of an integer, angle_i. Each angle_i is a multiple of 90 degrees and describes the angle by which you must rotate the matrix in the clockwise direction. For each angle_i, we want to count the number of cells that are different after the rotation."
   ]
  },
  {
   "cell_type": "code",
   "execution_count": 11,
   "metadata": {
    "collapsed": false
   },
   "outputs": [
    {
     "name": "stdout",
     "output_type": "stream",
     "text": [
      "[[ 0.  0.  0.  1.]\n",
      " [ 1.  1.  0.  0.]\n",
      " [ 0.  0.  1.  0.]\n",
      " [ 0.  0.  1.  0.]]\n"
     ]
    }
   ],
   "source": [
    "rotated = np.rot90(hac_mat,-1)\n",
    "print rotated"
   ]
  },
  {
   "cell_type": "code",
   "execution_count": 17,
   "metadata": {
    "collapsed": false
   },
   "outputs": [
    {
     "data": {
      "text/plain": [
       "array([[ True, False, False,  True],\n",
       "       [ True,  True,  True,  True],\n",
       "       [False,  True,  True, False],\n",
       "       [False,  True,  True, False]], dtype=bool)"
      ]
     },
     "execution_count": 17,
     "metadata": {},
     "output_type": "execute_result"
    }
   ],
   "source": [
    "hac_mat<>rotated"
   ]
  },
  {
   "cell_type": "code",
   "execution_count": 18,
   "metadata": {
    "collapsed": false
   },
   "outputs": [
    {
     "data": {
      "text/plain": [
       "10"
      ]
     },
     "execution_count": 18,
     "metadata": {},
     "output_type": "execute_result"
    }
   ],
   "source": [
    "sum(sum(hac_mat<>rotated))"
   ]
  },
  {
   "cell_type": "code",
   "execution_count": 21,
   "metadata": {
    "collapsed": false
   },
   "outputs": [],
   "source": [
    "n= 5 \n",
    "Matrix = [[0 for x in range(n)] for y in range(n)] "
   ]
  },
  {
   "cell_type": "code",
   "execution_count": 22,
   "metadata": {
    "collapsed": false
   },
   "outputs": [
    {
     "data": {
      "text/plain": [
       "[[0, 0, 0, 0, 0],\n",
       " [0, 0, 0, 0, 0],\n",
       " [0, 0, 0, 0, 0],\n",
       " [0, 0, 0, 0, 0],\n",
       " [0, 0, 0, 0, 0]]"
      ]
     },
     "execution_count": 22,
     "metadata": {},
     "output_type": "execute_result"
    }
   ],
   "source": [
    "Matrix"
   ]
  },
  {
   "cell_type": "code",
   "execution_count": 24,
   "metadata": {
    "collapsed": false
   },
   "outputs": [
    {
     "name": "stdout",
     "output_type": "stream",
     "text": [
      "[[0.0, 0.0, 0.0, 1.0], [1.0, 1.0, 0.0, 0.0], [0.0, 0.0, 1.0, 0.0], [0.0, 0.0, 1.0, 0.0]]\n"
     ]
    }
   ],
   "source": [
    "def rotate90(mat,n):\n",
    "    ret_mat=[[float(0) for x in range(n)] for y in range(n)]\n",
    "    \n",
    "    for idx_row in range(n):\n",
    "        row=mat[idx_row]\n",
    "        for jdx_col in range(n):\n",
    "            ret_mat[jdx_col][n-1-idx_row]=row[jdx_col]\n",
    "    return ret_mat\n",
    "print rotate90(hac_mat,4)"
   ]
  },
  {
   "cell_type": "code",
   "execution_count": 27,
   "metadata": {
    "collapsed": false
   },
   "outputs": [
    {
     "name": "stdout",
     "output_type": "stream",
     "text": [
      "[[0.0, 0.0, 0.0, 1.0], [1.0, 1.0, 0.0, 0.0], [0.0, 0.0, 1.0, 0.0], [0.0, 0.0, 1.0, 0.0]]\n"
     ]
    }
   ],
   "source": [
    "rotated=rotate90(hac_mat,4)\n",
    "print rotated"
   ]
  },
  {
   "cell_type": "code",
   "execution_count": 28,
   "metadata": {
    "collapsed": false
   },
   "outputs": [
    {
     "data": {
      "text/plain": [
       "array([[ True, False, False,  True],\n",
       "       [ True,  True,  True,  True],\n",
       "       [False,  True,  True, False],\n",
       "       [False,  True,  True, False]], dtype=bool)"
      ]
     },
     "execution_count": 28,
     "metadata": {},
     "output_type": "execute_result"
    }
   ],
   "source": [
    "hac_mat<>rotated"
   ]
  },
  {
   "cell_type": "code",
   "execution_count": null,
   "metadata": {
    "collapsed": true
   },
   "outputs": [],
   "source": []
  }
 ],
 "metadata": {
  "kernelspec": {
   "display_name": "Python 2",
   "language": "python",
   "name": "python2"
  },
  "language_info": {
   "codemirror_mode": {
    "name": "ipython",
    "version": 2
   },
   "file_extension": ".py",
   "mimetype": "text/x-python",
   "name": "python",
   "nbconvert_exporter": "python",
   "pygments_lexer": "ipython2",
   "version": "2.7.11"
  }
 },
 "nbformat": 4,
 "nbformat_minor": 0
}
